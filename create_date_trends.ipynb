{
 "cells": [
  {
   "cell_type": "code",
   "execution_count": null,
   "metadata": {},
   "outputs": [],
   "source": [
    "import pandas as pd\n",
    "\n",
    "# Load Walmart revenue data over time\n",
    "df = pd.read_html('https://ycharts.com/companies/WMT/revenues')[0]\n",
    "df.columns = ['date', 'revenue']\n",
    "\n",
    "# Remove B from revenue\n",
    "df.revenue = df.revenue.str.replace('B', '')\n",
    "\n",
    "# Add last date to df\n",
    "df = df.append({'date':'2020-09-30', 'revenue':134}, ignore_index=True)\n",
    "\n",
    "# Convert column datatypes\n",
    "df.revenue = pd.to_numeric(df.revenue)\n",
    "df.date = pd.to_datetime(df.date)\n",
    "\n",
    "# Set date as index\n",
    "df = df.sort_values('date')\n",
    "df = df.set_index('date')\n",
    "\n",
    "# Fill in missing days (filled with Nones)\n",
    "rev = df.revenue.asfreq('D')\n",
    "\n",
    "# Interpolate data between points (4 per year)\n",
    "rev_interp = rev.interpolate(method='polynomial', order=2)\n",
    "df = pd.DataFrame(rev_interp)\n",
    "\n",
    "# Our data starts in 2016\n",
    "df = df[df.index >= '2016-01-01']\n",
    "\n",
    "# Scale multipliers\n",
    "scale = 1\n",
    "normalized_df = (df - df.min()) / (df.max() - df.min()) * scale + (1 - scale / 2)\n",
    "\n",
    "# Save\n",
    "normalized_df.columns = ['multiplier']\n",
    "normalized_df.to_csv('date_multipliers.csv')"
   ]
  }
 ],
 "metadata": {
  "kernelspec": {
   "display_name": "Python 3",
   "language": "python",
   "name": "python3"
  },
  "language_info": {
   "codemirror_mode": {
    "name": "ipython",
    "version": 3
   },
   "file_extension": ".py",
   "mimetype": "text/x-python",
   "name": "python",
   "nbconvert_exporter": "python",
   "pygments_lexer": "ipython3",
   "version": "3.8.5"
  }
 },
 "nbformat": 4,
 "nbformat_minor": 4
}
