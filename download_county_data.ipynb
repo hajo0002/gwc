{
 "cells": [
  {
   "cell_type": "code",
   "execution_count": null,
   "metadata": {},
   "outputs": [],
   "source": [
    "import pandas as pd\n",
    "\n",
    "def get_county_df(state):\n",
    "    base_url = 'https://en.wikipedia.org/wiki/List_of_counties_in_'\n",
    "    url = base_url + state\n",
    "\n",
    "    # get table from wikipedia\n",
    "    df = pd.read_html(url, match='Etymology')[0]\n",
    "\n",
    "    # rename columns to match db\n",
    "    df.columns = ['county', 'fips_code', 'county_seat', 'est', 'origin', 'etymology', 'population', 'area', 'map']\n",
    "\n",
    "    # remove irrelevant info\n",
    "    df = df.drop(['county_seat', 'est', 'origin', 'etymology', 'map'], axis=1)\n",
    "\n",
    "    # remove \"County\" from county name\n",
    "    df['county'] = df['county'].str.replace(' County', '')\n",
    "\n",
    "    # convert area from string to int\n",
    "    df['area'] = pd.to_numeric(df['area'].str.split().str[0].str.replace(',', ''))\n",
    "    \n",
    "    return df\n",
    "\n",
    "df = get_county_df('Illinois')\n",
    "df.to_csv('il.csv', index=True)"
   ]
  }
 ],
 "metadata": {
  "kernelspec": {
   "display_name": "Python 3",
   "language": "python",
   "name": "python3"
  },
  "language_info": {
   "codemirror_mode": {
    "name": "ipython",
    "version": 3
   },
   "file_extension": ".py",
   "mimetype": "text/x-python",
   "name": "python",
   "nbconvert_exporter": "python",
   "pygments_lexer": "ipython3",
   "version": "3.8.5"
  }
 },
 "nbformat": 4,
 "nbformat_minor": 4
}
