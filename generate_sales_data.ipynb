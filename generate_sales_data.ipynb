{
 "cells": [
  {
   "cell_type": "code",
   "execution_count": null,
   "metadata": {},
   "outputs": [],
   "source": [
    "import pandas as pd\n",
    "import numpy as np"
   ]
  },
  {
   "cell_type": "code",
   "execution_count": null,
   "metadata": {},
   "outputs": [],
   "source": [
    "counties = pd.read_csv('data/counties.csv')\n",
    "manufacturers = pd.read_csv('data/manufacturers.csv')\n",
    "products = pd.read_csv('data/products.csv')\n",
    "retailers = pd.read_csv('data/retailers.csv')\n",
    "stores = pd.read_csv('data/stores.csv')\n",
    "\n",
    "manufacturers['ratio'] = manufacturers.revenue / manufacturers.revenue.sum()\n",
    "retailers['ratio'] = retailers.revenue / retailers.revenue.sum()\n",
    "counties['ratio'] = counties.population / counties.population.sum()"
   ]
  },
  {
   "cell_type": "code",
   "execution_count": null,
   "metadata": {},
   "outputs": [],
   "source": [
    "from datetime import date, timedelta, datetime\n",
    "import math\n",
    "import random\n",
    "import time\n",
    "\n",
    "start_date = date(2016, 1, 1)\n",
    "end_date = date(2017, 12, 31)\n",
    "curr_date = start_date\n",
    "\n",
    "delta = timedelta(days=1)\n",
    "\n",
    "sales_per_day = 1000\n",
    "\n",
    "sale_id = 1\n",
    "d = []\n",
    "start = time.time()\n",
    "ii = 0\n",
    "while curr_date <= end_date:\n",
    "    for _, man in manufacturers.iterrows():\n",
    "        manufacturer_add_date = datetime.strptime(man.add_date, '%Y-%m-%d %H:%M:%S').date()\n",
    "        if manufacturer_add_date > curr_date:\n",
    "            break\n",
    "        for _, ret in retailers.iterrows():\n",
    "            for _, cou in counties.iterrows():\n",
    "                sales_percent = ret.ratio * cou.ratio * man.ratio\n",
    "                num_sales = math.floor(sales_per_day * sales_percent * np.random.normal(1, 0.1))\n",
    "                for n in range(num_sales):\n",
    "                    product_id = random.choice(products.product_id)\n",
    "                    unit_price = round(np.random.normal(10, 2), 2)\n",
    "                    qty = math.ceil(np.random.exponential(2))\n",
    "                    date_formatted = curr_date.strftime(\"%Y-%m-%d 00:00:00\")\n",
    "                    store_id = int(stores[(stores.retailer_id == ret.retailer_id) & (stores.county_id == cou.county_id)]['store_id'])\n",
    "                    d.append(\n",
    "                        {\n",
    "                            'sale_id': sale_id,\n",
    "                            'store_id': store_id,\n",
    "                            'product_id': product_id,\n",
    "                            'date': date_formatted,\n",
    "                            'unit_price': unit_price,\n",
    "                            'qty': qty \n",
    "                        }\n",
    "                    )\n",
    "                    sale_id += 1\n",
    "    curr_date += delta\n",
    "    ii += 1\n",
    "    if (ii % 100 == 0):\n",
    "        print(ii, time.time() - start)\n",
    "df = pd.DataFrame(d)"
   ]
  },
  {
   "cell_type": "code",
   "execution_count": null,
   "metadata": {},
   "outputs": [],
   "source": [
    "df.to_csv('sales.csv', index=False)"
   ]
  }
 ],
 "metadata": {
  "kernelspec": {
   "display_name": "Python 3",
   "language": "python",
   "name": "python3"
  },
  "language_info": {
   "codemirror_mode": {
    "name": "ipython",
    "version": 3
   },
   "file_extension": ".py",
   "mimetype": "text/x-python",
   "name": "python",
   "nbconvert_exporter": "python",
   "pygments_lexer": "ipython3",
   "version": "3.8.5"
  }
 },
 "nbformat": 4,
 "nbformat_minor": 4
}
