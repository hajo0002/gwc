{
 "cells": [
  {
   "cell_type": "code",
   "execution_count": null,
   "metadata": {},
   "outputs": [],
   "source": [
    "import pandas as pd\n",
    "import numpy as np"
   ]
  },
  {
   "cell_type": "code",
   "execution_count": null,
   "metadata": {},
   "outputs": [],
   "source": [
    "counties = pd.read_csv('data/counties.csv')\n",
    "manufacturers = pd.read_csv('data/manufacturers.csv')\n",
    "products = pd.read_csv('data/products.csv')\n",
    "retailers = pd.read_csv('data/retailers.csv')\n",
    "stores = pd.read_csv('data/stores.csv')\n",
    "date_multipliers = pd.read_csv('data/date_multipliers.csv')\n",
    "product_multipliers = pd.read_csv('data/product_multipliers.csv')\n",
    "\n",
    "manufacturers['ratio'] = manufacturers.revenue / manufacturers.revenue.sum()\n",
    "retailers['ratio'] = retailers.revenue / retailers.revenue.sum()\n",
    "counties['ratio'] = counties.population / counties.population.sum()\n",
    "\n",
    "manufacturers = manufacturers[manufacturers.manufacturer_id <= 5]"
   ]
  },
  {
   "cell_type": "code",
   "execution_count": null,
   "metadata": {},
   "outputs": [],
   "source": [
    "from datetime import date, timedelta, datetime\n",
    "import math\n",
    "import random\n",
    "import time\n",
    "from os import path\n",
    "\n",
    "start_date = date(2016, 1, 1)\n",
    "end_date = date(2020, 9, 30)\n",
    "curr_date = start_date\n",
    "\n",
    "sales_per_day = 1000\n",
    "\n",
    "sales_list = []\n",
    "start = time.time()\n",
    "while curr_date <= end_date:\n",
    "    # Print time elapsed on select days\n",
    "    if curr_date.day in [1]:\n",
    "        print(f'[{curr_date}] {time.time()-start:.2f} s')\n",
    "    \n",
    "    # Get date scaling/multiplier\n",
    "    date_mult = float(date_multipliers[date_multipliers.date == curr_date.strftime('%Y-%m-%d')].multiplier)\n",
    "    \n",
    "    for man in manufacturers.itertuples(index=False):\n",
    "        manufacturer_add_date = datetime.strptime(man.add_date, '%Y-%m-%d %H:%M:%S').date()\n",
    "        if manufacturer_add_date > curr_date:\n",
    "            continue\n",
    "        \n",
    "        # Get products made by current manufacturer\n",
    "        man_products = products[products['manufacturer_id'] == man.manufacturer_id]\n",
    "        man_products = man_products.merge(product_multipliers)\n",
    "        man_products['prob'] = man_products['mult'] / man_products['mult'].sum()\n",
    "        \n",
    "        for ret in retailers.itertuples(index=False):\n",
    "            for cou in counties.itertuples(index=False):\n",
    "                \n",
    "                # Calculate number of sales to generate\n",
    "                sales_percent = ret.ratio * cou.ratio * man.ratio * date_mult\n",
    "                pre_div = 1\n",
    "                num_sales = pre_div * math.floor(sales_per_day / pre_div * sales_percent * np.random.normal(1, 0.1))\n",
    "                \n",
    "                # Generate each sale\n",
    "                for _ in range(num_sales):\n",
    "                    # product_id = random.choice(list(man_products.product_id))\n",
    "                    product_id = int(man_products.sample(weights=man_products['prob'])['product_id'])\n",
    "                    unit_price = round(np.random.normal(10, 2), 2)\n",
    "                    qty = math.ceil(np.random.exponential(2))\n",
    "                    date_formatted = curr_date.strftime(\"%Y-%m-%d 00:00:00\")\n",
    "                    store_id = int(stores[(stores.retailer_id == ret.retailer_id) & (stores.county_id == cou.county_id)]['store_id'])\n",
    "                    sales_list.append(\n",
    "                        {\n",
    "                            'store_id': store_id,\n",
    "                            'product_id': product_id,\n",
    "                            'date': date_formatted,\n",
    "                            'unit_price': unit_price,\n",
    "                            'qty': qty \n",
    "                        }\n",
    "                    )\n",
    "    curr_date += timedelta(days=1)\n",
    "\n",
    "df = pd.DataFrame(sales_list)\n",
    "df.to_csv('sales1000_prodweights.csv', index=False)"
   ]
  }
 ],
 "metadata": {
  "kernelspec": {
   "display_name": "Python 3",
   "language": "python",
   "name": "python3"
  },
  "language_info": {
   "codemirror_mode": {
    "name": "ipython",
    "version": 3
   },
   "file_extension": ".py",
   "mimetype": "text/x-python",
   "name": "python",
   "nbconvert_exporter": "python",
   "pygments_lexer": "ipython3",
   "version": "3.8.5"
  }
 },
 "nbformat": 4,
 "nbformat_minor": 4
}
