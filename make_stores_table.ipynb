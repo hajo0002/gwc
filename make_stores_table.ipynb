{
 "cells": [
  {
   "cell_type": "code",
   "execution_count": null,
   "metadata": {},
   "outputs": [],
   "source": [
    "import pandas as pd\n",
    "import numpy as np"
   ]
  },
  {
   "cell_type": "code",
   "execution_count": null,
   "metadata": {},
   "outputs": [],
   "source": [
    "# Read csvs into pandas dataframe\n",
    "counties = pd.read_csv('data/counties.csv')\n",
    "retailers = pd.read_csv('data/retailers.csv')"
   ]
  },
  {
   "cell_type": "code",
   "execution_count": null,
   "metadata": {},
   "outputs": [],
   "source": [
    "# Create a store for each retailer in each county\n",
    "store_id = 1\n",
    "rows = []\n",
    "for _, retailer in retailers.iterrows():\n",
    "    for _, county in counties.iterrows():\n",
    "        rows.append(\n",
    "            {\n",
    "                'store_id': store_id,\n",
    "                'retailer_id': retailer.retailer_id,\n",
    "                'county_id':  county.county_id\n",
    "            }\n",
    "        )\n",
    "        store_id += 1\n",
    "df = pd.DataFrame(rows)"
   ]
  },
  {
   "cell_type": "code",
   "execution_count": null,
   "metadata": {},
   "outputs": [],
   "source": [
    "df.to_csv('stores.csv', index=False)"
   ]
  }
 ],
 "metadata": {
  "kernelspec": {
   "display_name": "Python 3",
   "language": "python",
   "name": "python3"
  },
  "language_info": {
   "codemirror_mode": {
    "name": "ipython",
    "version": 3
   },
   "file_extension": ".py",
   "mimetype": "text/x-python",
   "name": "python",
   "nbconvert_exporter": "python",
   "pygments_lexer": "ipython3",
   "version": "3.8.5"
  }
 },
 "nbformat": 4,
 "nbformat_minor": 4
}
