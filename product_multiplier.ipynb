{
 "cells": [
  {
   "cell_type": "code",
   "execution_count": null,
   "metadata": {},
   "outputs": [],
   "source": [
    "import pandas as pd\n",
    "import numpy as np"
   ]
  },
  {
   "cell_type": "code",
   "execution_count": null,
   "metadata": {},
   "outputs": [],
   "source": [
    "# Load and merge product and nutrition data\n",
    "dfp = pd.read_csv('data/products.csv')\n",
    "dfn = pd.read_csv('data/nutrition.csv')\n",
    "df = dfp.merge(dfn)\n",
    "\n",
    "# Set index and drop unused cols\n",
    "df = df.set_index('product_id')\n",
    "df = df.drop(['manufacturer_id', 'name', 'department'], axis=1)\n",
    "\n",
    "# Replace categories with numbers\n",
    "types = {'Plated':5, 'Bowl':4, 'Flatbread':2, 'Soup':3, 'Dessert':1}\n",
    "df['type'] = df['type'].apply(lambda x: types[x])\n",
    "\n",
    "categories = {'Poultry':4, 'Meat':8, 'Vegetarian':3, 'Seafood':1, 'Pasta':2}\n",
    "df['category'] = df['category'].apply(lambda x: categories[x])\n",
    "\n",
    "# convert to numeric\n",
    "df['type'] = pd.to_numeric(df['type'])\n",
    "df['category'] = pd.to_numeric(df['category'])\n",
    "\n",
    "df.head()"
   ]
  },
  {
   "cell_type": "code",
   "execution_count": null,
   "metadata": {},
   "outputs": [],
   "source": [
    "dev = 0.2 # max deviation (0.1 means multiplier will be between 0.9 and 1.1)\n",
    "df = (df - df.min()) / (df.max() - df.min()) * 2 * dev + (1 - dev)\n",
    "\n",
    "multipliers = df.product(axis=1)\n",
    "\n",
    "pd.DataFrame(multipliers, columns=['mult']).to_csv('data/product_multipliers.csv')"
   ]
  }
 ],
 "metadata": {
  "kernelspec": {
   "display_name": "Python 3",
   "language": "python",
   "name": "python3"
  },
  "language_info": {
   "codemirror_mode": {
    "name": "ipython",
    "version": 3
   },
   "file_extension": ".py",
   "mimetype": "text/x-python",
   "name": "python",
   "nbconvert_exporter": "python",
   "pygments_lexer": "ipython3",
   "version": "3.8.5"
  }
 },
 "nbformat": 4,
 "nbformat_minor": 4
}
